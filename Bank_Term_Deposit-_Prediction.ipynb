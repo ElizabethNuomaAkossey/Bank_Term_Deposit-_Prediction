{
 "cells": [
  {
   "cell_type": "markdown",
   "id": "8a1d94d9",
   "metadata": {},
   "source": [
    "#  Bank Term Deposit Prediction With Machine Learning"
   ]
  },
  {
   "cell_type": "markdown",
   "id": "be4a9e6b",
   "metadata": {},
   "source": [
    "## - Table of Contents\n",
    "\n",
    "1. [Data Description](#1.-Data-Description)\n",
    "\n",
    "2. [Importation of Packages](#2.-Importation-of-Packages)\n",
    "\n",
    "3. [Data Importation](#3.-Data-Importation)\n",
    "\n",
    "4. [Exploratory Data Analysis](#4.-Exploratory-Data-Analysis-(EDA))\n",
    "    \n",
    "    4.1 [Data Cleaning and Validation](#4.1-Data-Cleaning-and-Validation)\n",
    "\n",
    "   4.2 [Univariate Analysis](#4.2-Univariate-Analysis)\n",
    "   \n",
    "   4.3 [Bivariate Analysis](#4.3-Bivariate-Analysis)\n",
    "   \n",
    "   4.4 [Multivariate Analysis](#4.4-Multivariate-Analysis)\n",
    "   \n",
    "   \n",
    "5. [Feature Engineering and Data Preprocessing](#5.--Feature-Engineering-and-Data-Preprocessing)\n",
    "\n",
    "6. [Model Building](#6.--Model-Building)\n",
    "\n",
    "7. [Model Evaluation](#7.-Model-Evaluation)\n",
    "\n",
    "8. [Model Selection](#8.-Model-Selection)\n",
    "\n",
    "9. [Feature Importance](#9.-Feature-Importance)\n",
    "\n",
    "10. [Summary](#10.-Summary)\n",
    "\n",
    "11. [Recommendations](#11.-Recommendations)\n",
    "\n",
    "12. [Model Deployment](#12.--Model-Deployment)"
   ]
  },
  {
   "cell_type": "markdown",
   "id": "ef6385ee",
   "metadata": {},
   "source": [
    "### 1. Data Description\n",
    "The data is related to direct marketing campaigns (phone calls) of a banking institution.  \n",
    "The data is related with direct marketing campaigns of a banking institution. The marketing campaigns were based on phone calls. Often, more than one contact to the same client was required, in order to access if the product (bank term deposit) would be ('yes') or not ('no') subscribed. \n",
    "\n",
    "Data Source: https://fromsmash.com/ZLq5W.CQkL-ct\n",
    "\n",
    "\n",
    "   #### Bank Client Data:\n",
    "   \n",
    "   1 - **Age** (numeric)\n",
    "   \n",
    "   2 - **Job:** type of job (categorical: \"admin.\",\"unknown\",\"unemployed\",\"management\",\"housemaid\",\"entrepreneur\",\"student\",\n",
    "                                       \"blue-collar\",\"self-employed\",\"retired\",\"technician\",\"services\") \n",
    "                                       \n",
    "   3 - **Marital:** marital status (categorical: \"married\",\"divorced\",\"single\"; note: \"divorced\" means divorced or widowed)\n",
    "   \n",
    "   4 - **Education** (categorical: \"unknown\",\"secondary\",\"primary\",\"tertiary\")\n",
    "   \n",
    "   5 - **Default:** has credit in default? (binary: \"yes\",\"no\")\n",
    "   \n",
    "   6 - **Balance:** average yearly balance, in euros (numeric) \n",
    "   \n",
    "   7 - **Housing:** has housing loan? (binary: \"yes\",\"no\")\n",
    "   \n",
    "   8 - **Loan:** has personal loan? (binary: \"yes\",\"no\")\n",
    "   \n",
    "   #### Related with the last contact of the current campaign:\n",
    "   \n",
    "   9 - **Contact:** contact communication type (categorical: \"unknown\",\"telephone\",\"cellular\") \n",
    "   \n",
    "  10 - **Day:** last contact day of the month (numeric)\n",
    "  \n",
    "  11 - **Month:** last contact month of year (categorical: \"jan\", \"feb\", \"mar\", ..., \"nov\", \"dec\")\n",
    "  \n",
    "  12 - **Duration:** last contact duration, in seconds (numeric)\n",
    "  \n",
    "   #### Other attributes:\n",
    "   \n",
    "  13 - **Campaign:** number of contacts performed during this campaign and for this client (numeric, includes last contact)\n",
    "  \n",
    "  14 - **Pdays:** number of days that passed by after the client was last contacted from a previous campaign (numeric, -1 means client was not previously contacted)\n",
    "  \n",
    "  15 - **Previous:** number of contacts performed before this campaign and for this client (numeric)\n",
    "  \n",
    "  16 - **Poutcome:** outcome of the previous marketing campaign (categorical: \"unknown\",\"other\",\"failure\",\"success\")\n",
    "\n",
    "  #### Output variable (desired target):\n",
    "  \n",
    "  17 - **y:** has the client subscribed a term deposit? (binary: \"yes\",\"no\")\n"
   ]
  },
  {
   "cell_type": "code",
   "execution_count": null,
   "id": "67eca458",
   "metadata": {},
   "outputs": [],
   "source": [
    "from flask import Flask\n",
    "\n",
    "# Create an instance of the Flask class\n",
    "app = Flask(__name__)\n",
    "\n",
    "# Define a route for the homepage\n",
    "@app.route('/')\n",
    "def hello_world():\n",
    "    return 'Hello, World!'\n",
    "\n",
    "if __name__ == '__main__':\n",
    "    # Run the app on your local machine\n",
    "    app.run(debug=True)"
   ]
  },
  {
   "cell_type": "markdown",
   "id": "d168800f",
   "metadata": {},
   "source": [
    "### 2. Importation of Packages\n",
    "\n",
    "[Back to Table of Contents](#--Table-of-Contents)"
   ]
  },
  {
   "cell_type": "code",
   "execution_count": null,
   "id": "9a9a7256",
   "metadata": {},
   "outputs": [],
   "source": [
    "#importing required packages\n",
    "import pandas as pd\n",
    "import matplotlib.pyplot as plt\n",
    "import seaborn as sns\n",
    "import numpy as np\n",
    "\n",
    "#importing package data preprocessing\n",
    "from sklearn.preprocessing import LabelEncoder\n",
    "from sklearn.model_selection import train_test_split, GridSearchCV, cross_val_score\n",
    "from sklearn.preprocessing import StandardScaler\n",
    "\n",
    "#importing package to balance data\n",
    "from imblearn.combine import SMOTEENN\n",
    "from imblearn.over_sampling import SMOTE\n",
    "\n",
    "# Importing Classifcation Algorithms\n",
    "from sklearn.neighbors import KNeighborsClassifier\n",
    "from sklearn.tree import DecisionTreeClassifier\n",
    "from sklearn.ensemble import RandomForestClassifier\n",
    "from sklearn.ensemble import AdaBoostClassifier\n",
    "from sklearn.naive_bayes import GaussianNB\n",
    "from xgboost import XGBClassifier\n",
    "from sklearn.ensemble import ExtraTreesClassifier\n",
    "\n",
    "#Importing package for metrics\n",
    "from sklearn.metrics import accuracy_score, f1_score, classification_report, confusion_matrix, roc_curve, roc_auc_score"
   ]
  },
  {
   "cell_type": "code",
   "execution_count": null,
   "id": "a1cb57d2",
   "metadata": {},
   "outputs": [],
   "source": [
    "pip install xgboost"
   ]
  },
  {
   "cell_type": "markdown",
   "id": "15e911a0",
   "metadata": {},
   "source": [
    "### 3. Data Importation\n",
    "\n",
    "[Back to Table of Contents](#--Table-of-Contents)"
   ]
  },
  {
   "cell_type": "code",
   "execution_count": null,
   "id": "4868aac5",
   "metadata": {},
   "outputs": [],
   "source": [
    "df = pd.read_csv(\"bank-full.csv\")"
   ]
  },
  {
   "cell_type": "markdown",
   "id": "5961fbae",
   "metadata": {},
   "source": [
    "### 4. Exploratory Data Analysis (EDA)\n",
    "\n",
    "[Back to Table of Contents](#--Table-of-Contents)"
   ]
  },
  {
   "cell_type": "markdown",
   "id": "1d4ec7ca",
   "metadata": {},
   "source": [
    "#### 4.1 Data Cleaning and Validation"
   ]
  },
  {
   "cell_type": "code",
   "execution_count": null,
   "id": "63b56b0d",
   "metadata": {
    "scrolled": false
   },
   "outputs": [],
   "source": [
    "df.head()"
   ]
  },
  {
   "cell_type": "code",
   "execution_count": null,
   "id": "6d2e3d40",
   "metadata": {},
   "outputs": [],
   "source": [
    "df.tail()"
   ]
  },
  {
   "cell_type": "code",
   "execution_count": null,
   "id": "261d2134",
   "metadata": {},
   "outputs": [],
   "source": [
    "df.shape"
   ]
  },
  {
   "cell_type": "code",
   "execution_count": null,
   "id": "832bd301",
   "metadata": {},
   "outputs": [],
   "source": [
    "df.info()"
   ]
  },
  {
   "cell_type": "code",
   "execution_count": null,
   "id": "e18ea1d8",
   "metadata": {},
   "outputs": [],
   "source": [
    "df.describe()"
   ]
  },
  {
   "cell_type": "code",
   "execution_count": null,
   "id": "fc389656",
   "metadata": {},
   "outputs": [],
   "source": [
    "df.columns"
   ]
  },
  {
   "cell_type": "markdown",
   "id": "5bc3e635",
   "metadata": {},
   "source": [
    "#### Splitting Column "
   ]
  },
  {
   "cell_type": "code",
   "execution_count": null,
   "id": "ce201f25",
   "metadata": {},
   "outputs": [],
   "source": [
    "#splitting column\n",
    "column_names= 'age;\"job\";\"marital\";\"education\";\"default\";\"balance\";\"housing\";\"loan\";\"contact\";\"day\";\"month\";\"duration\";\"campaign\";\"pdays\";\"previous\";\"poutcome\";\"y\"'\n",
    "\n",
    "df[[\"age\", \"job\", \"marital\", \"education\", \"default\", \"balance\", \"housing\", \"loan\", \"contact\",\"day\", \"month\", \"duration\", \"campaign\", \"pdays\", \"previous\", \"poutcome\", \"y\"]] = df[column_names].str.replace('\"','').str.split(\";\", expand = True)\n",
    "\n",
    "#drop the original column\n",
    "df.drop(columns =column_names, inplace = True)"
   ]
  },
  {
   "cell_type": "markdown",
   "id": "3d7676af",
   "metadata": {},
   "source": [
    "#### Sanity Checks after Splitting Column"
   ]
  },
  {
   "cell_type": "code",
   "execution_count": null,
   "id": "1046b59a",
   "metadata": {
    "scrolled": true
   },
   "outputs": [],
   "source": [
    "df.head(30)"
   ]
  },
  {
   "cell_type": "code",
   "execution_count": null,
   "id": "87a252b8",
   "metadata": {
    "scrolled": true
   },
   "outputs": [],
   "source": [
    "df.tail()"
   ]
  },
  {
   "cell_type": "code",
   "execution_count": null,
   "id": "6d64f580",
   "metadata": {},
   "outputs": [],
   "source": [
    "df.shape"
   ]
  },
  {
   "cell_type": "code",
   "execution_count": null,
   "id": "96d544dc",
   "metadata": {
    "scrolled": true
   },
   "outputs": [],
   "source": [
    "df.info()"
   ]
  },
  {
   "cell_type": "code",
   "execution_count": null,
   "id": "cb36844f",
   "metadata": {
    "scrolled": true
   },
   "outputs": [],
   "source": [
    "df.describe()"
   ]
  },
  {
   "cell_type": "code",
   "execution_count": null,
   "id": "1b7abf12",
   "metadata": {
    "scrolled": true
   },
   "outputs": [],
   "source": [
    "#Checking for null values\n",
    "df.isnull().sum()"
   ]
  },
  {
   "cell_type": "code",
   "execution_count": null,
   "id": "43fe66be",
   "metadata": {},
   "outputs": [],
   "source": [
    "#Checking for duplicate values\n",
    "duplicates = df.duplicated()\n",
    "duplicates.sum()"
   ]
  },
  {
   "cell_type": "markdown",
   "id": "d1f950f1",
   "metadata": {},
   "source": [
    "#### Changing Datatypes of Some Columns"
   ]
  },
  {
   "cell_type": "code",
   "execution_count": null,
   "id": "8ed5845d",
   "metadata": {},
   "outputs": [],
   "source": [
    "df = df.astype({\n",
    "                'age':'int',\n",
    "                'balance':'float',\n",
    "                'day':'int',\n",
    "                'duration':'int',\n",
    "                'campaign':'int',\n",
    "                'pdays':'int',\n",
    "                'previous':'int'\n",
    "                })"
   ]
  },
  {
   "cell_type": "code",
   "execution_count": null,
   "id": "ee024f85",
   "metadata": {},
   "outputs": [],
   "source": [
    "df.info()"
   ]
  },
  {
   "cell_type": "code",
   "execution_count": null,
   "id": "c2b27782",
   "metadata": {},
   "outputs": [],
   "source": [
    "df[\"age\"].nunique()"
   ]
  },
  {
   "cell_type": "code",
   "execution_count": null,
   "id": "47c3bf90",
   "metadata": {},
   "outputs": [],
   "source": [
    "df[\"job\"].value_counts()"
   ]
  },
  {
   "cell_type": "code",
   "execution_count": null,
   "id": "56c758cc",
   "metadata": {},
   "outputs": [],
   "source": [
    "df[\"marital\"].unique()"
   ]
  },
  {
   "cell_type": "code",
   "execution_count": null,
   "id": "531f89ed",
   "metadata": {},
   "outputs": [],
   "source": [
    "df[\"default\"].unique()"
   ]
  },
  {
   "cell_type": "code",
   "execution_count": null,
   "id": "387974ad",
   "metadata": {},
   "outputs": [],
   "source": [
    "df[\"balance\"].nunique()"
   ]
  },
  {
   "cell_type": "code",
   "execution_count": null,
   "id": "459131a3",
   "metadata": {},
   "outputs": [],
   "source": [
    "df[\"housing\"].unique()"
   ]
  },
  {
   "cell_type": "code",
   "execution_count": null,
   "id": "9c4da2a2",
   "metadata": {},
   "outputs": [],
   "source": [
    "df[\"loan\"].unique()"
   ]
  },
  {
   "cell_type": "code",
   "execution_count": null,
   "id": "0a5c4779",
   "metadata": {},
   "outputs": [],
   "source": [
    "df[\"contact\"].unique()"
   ]
  },
  {
   "cell_type": "code",
   "execution_count": null,
   "id": "f977bf8d",
   "metadata": {},
   "outputs": [],
   "source": [
    "df[\"day\"].nunique()"
   ]
  },
  {
   "cell_type": "code",
   "execution_count": null,
   "id": "b04c182d",
   "metadata": {
    "scrolled": true
   },
   "outputs": [],
   "source": [
    "df[\"month\"].value_counts()"
   ]
  },
  {
   "cell_type": "code",
   "execution_count": null,
   "id": "e1d771d6",
   "metadata": {},
   "outputs": [],
   "source": [
    "df[\"duration\"].nunique()"
   ]
  },
  {
   "cell_type": "code",
   "execution_count": null,
   "id": "3e0c2896",
   "metadata": {},
   "outputs": [],
   "source": [
    "df[\"campaign\"].unique()"
   ]
  },
  {
   "cell_type": "code",
   "execution_count": null,
   "id": "43dd000c",
   "metadata": {},
   "outputs": [],
   "source": [
    "df[\"pdays\"].nunique()"
   ]
  },
  {
   "cell_type": "code",
   "execution_count": null,
   "id": "5735c2d8",
   "metadata": {},
   "outputs": [],
   "source": [
    "df[\"poutcome\"].unique()"
   ]
  },
  {
   "cell_type": "code",
   "execution_count": null,
   "id": "f5c80b9c",
   "metadata": {},
   "outputs": [],
   "source": [
    "df[\"y\"].unique()"
   ]
  },
  {
   "cell_type": "code",
   "execution_count": null,
   "id": "44c24804",
   "metadata": {
    "scrolled": true
   },
   "outputs": [],
   "source": [
    "#describing the categorical variables\n",
    "df.describe(include='object')"
   ]
  },
  {
   "cell_type": "code",
   "execution_count": null,
   "id": "c2b42ba0",
   "metadata": {},
   "outputs": [],
   "source": [
    "df.describe(exclude='object')"
   ]
  },
  {
   "cell_type": "code",
   "execution_count": null,
   "id": "5124d9dc",
   "metadata": {},
   "outputs": [],
   "source": [
    "#Checking for outliers in the numerical variables\n",
    "\n",
    "fig,axes = plt.subplots(nrows=3,ncols=3,figsize=(15,30))\n",
    "plt.title('outliers in numerical data')\n",
    "\n",
    "sns.boxplot(df['age'],color='skyblue',ax=axes[0,0])\n",
    "axes[0,0].set_title('age')\n",
    "\n",
    "sns.boxplot(df['balance'],color='salmon',ax=axes[0,1])\n",
    "axes[0,1].set_title('balance')\n",
    "\n",
    "sns.boxplot(df['day'],color='indigo',ax=axes[0,2])\n",
    "axes[0,2].set_title('day')\n",
    "\n",
    "sns.boxplot(df['duration'],color='green',ax=axes[1,0])\n",
    "axes[1,0].set_title('duration')\n",
    "\n",
    "sns.boxplot(df['campaign'],color='violet',ax=axes[1,1])\n",
    "axes[1,1].set_title('campaign')\n",
    "\n",
    "sns.boxplot(df['pdays'],color='orange',ax=axes[1,2])\n",
    "axes[1,2].set_title('pdays')\n",
    "\n",
    "sns.boxplot(df[\"previous\"],color='green', ax=axes[2,0])\n",
    "axes[2,0].set_title(\"previous\")\n",
    "\n",
    "axes[2,1].axis('off')\n",
    "axes[2,2].axis('off')\n",
    "\n",
    "plt.tight_layout()\n",
    "plt.show()\n"
   ]
  },
  {
   "cell_type": "code",
   "execution_count": null,
   "id": "8942d929",
   "metadata": {},
   "outputs": [],
   "source": [
    "#Finding the correlation between numerical variables\n",
    "\n",
    "df.select_dtypes(\"number\").corr()"
   ]
  },
  {
   "cell_type": "code",
   "execution_count": null,
   "id": "8f4a0b42",
   "metadata": {},
   "outputs": [],
   "source": [
    "# Create correlation matrix\n",
    "correlation = df.select_dtypes(\"number\").corr()\n",
    "correlation\n",
    "\n",
    "# Plot heatmap of `correlation`\n",
    "sns.heatmap(correlation,annot = correlation,cmap = 'Spectral_r');"
   ]
  },
  {
   "cell_type": "markdown",
   "id": "c243e087",
   "metadata": {},
   "source": [
    "#### 4.2 Univariate Analysis \n",
    "\n",
    "Numerical\n",
    "\n",
    "[Back to Table of Contents](#--Table-of-Contents)"
   ]
  },
  {
   "cell_type": "code",
   "execution_count": null,
   "id": "e9667edd",
   "metadata": {},
   "outputs": [],
   "source": [
    "fig,axes = plt.subplots(nrows=3,ncols=3,figsize=(15,30))\n",
    "\n",
    "sns.histplot(df['age'],kde=True, color='skyblue',ax=axes[0,0])\n",
    "axes[0,0].set_title('age')\n",
    "\n",
    "sns.histplot(df['balance'],kde=True, color='salmon',ax=axes[0,1])\n",
    "axes[0,1].set_title('balance')\n",
    "\n",
    "sns.histplot(df['day'],kde=True,color='indigo',ax=axes[0,2])\n",
    "axes[0,2].set_title('day')\n",
    "\n",
    "sns.histplot(df['duration'],kde=True,color='green',ax=axes[1,0])\n",
    "axes[1,0].set_title('duration')\n",
    "\n",
    "sns.histplot(df['campaign'],kde=True,color='violet',ax=axes[1,1])\n",
    "axes[1,1].set_title('campaign')\n",
    "\n",
    "sns.histplot(df['pdays'],kde=True,color='orange',ax=axes[1,2])\n",
    "axes[1,2].set_title('pdays')\n",
    "\n",
    "sns.histplot(df[\"previous\"],kde=True,color='green', ax=axes[2,0])\n",
    "axes[2,0].set_title(\"previous\")\n",
    "\n",
    "axes[2,1].axis('off')\n",
    "axes[2,2].axis('off')\n",
    "\n",
    "plt.tight_layout()\n",
    "plt.show()\n"
   ]
  },
  {
   "cell_type": "markdown",
   "id": "b74f0f4d",
   "metadata": {},
   "source": [
    "\n",
    "#### Categorical\n",
    "\n",
    "[Back to Table of Contents](#--Table-of-Contents)"
   ]
  },
  {
   "cell_type": "code",
   "execution_count": null,
   "id": "c162adb2",
   "metadata": {},
   "outputs": [],
   "source": [
    "fig,axes = plt.subplots(nrows=4,ncols=3,figsize=(25,30))\n",
    "\n",
    "sns.countplot(x=\"job\" , data =df, palette='Set1',ax=axes[0,0])\n",
    "axes[0,0].set_title('job')\n",
    "axes[0, 0].set_xticklabels(axes[0, 0].get_xticklabels(), rotation=90)\n",
    "\n",
    "\n",
    "sns.countplot(x=\"marital\",data=df,palette='Set1',ax=axes[0,1])\n",
    "axes[0,1].set_title('marital')\n",
    "\n",
    "sns.countplot(x=\"education\",data=df,palette='Set1',ax=axes[0,2])\n",
    "axes[0,2].set_title('education')\n",
    "\n",
    "sns.countplot(x=\"default\",data=df,palette='Set1',ax=axes[1,0])\n",
    "axes[1,0].set_title('default')\n",
    "\n",
    "sns.countplot(x='housing',data=df,palette='Set1',ax=axes[1,1])\n",
    "axes[1,1].set_title('housing')\n",
    "\n",
    "sns.countplot(x=\"loan\",data=df,palette='Set1',ax=axes[1,2])\n",
    "axes[1,2].set_title('loan')\n",
    "\n",
    "sns.countplot(x=\"contact\",data=df,palette='Set1', ax=axes[2,0])\n",
    "axes[2,0].set_title(\"contact\")\n",
    "\n",
    "sns.countplot(x=\"month\",data=df,palette='Set1', ax=axes[2,1])\n",
    "axes[2,1].set_title(\"month\")\n",
    "\n",
    "\n",
    "sns.countplot(x=\"poutcome\",data=df,palette='Set1', ax=axes[2,2])\n",
    "axes[2,2].set_title(\"poutcome\")\n",
    "\n",
    "sns.countplot(x=\"y\",data=df,palette='Set1', ax=axes[3,0])\n",
    "axes[3,0].set_title(\"y\")\n",
    "\n",
    "\n",
    "axes[3,1].axis('off')\n",
    "axes[3,2].axis('off')\n",
    "\n",
    "plt.tight_layout()\n",
    "plt.show()\n"
   ]
  },
  {
   "cell_type": "markdown",
   "id": "3d94075a",
   "metadata": {},
   "source": [
    "#### 4.3 Bivariate Analysis \n",
    "\n",
    "[Back to Table of Contents](#--Table-of-Contents)\n"
   ]
  },
  {
   "cell_type": "code",
   "execution_count": null,
   "id": "a186dbc6",
   "metadata": {
    "scrolled": false
   },
   "outputs": [],
   "source": [
    "numerical_vars = ['age', 'balance', 'day', 'duration', 'campaign', 'pdays', 'previous']\n",
    "categorical_vars = ['job', 'marital', 'education', 'default', 'housing', 'loan', 'contact', 'month', 'poutcome', 'y']\n",
    "\n",
    "for num_var in numerical_vars:\n",
    "    for cat_var in categorical_vars:\n",
    "        plt.figure(figsize=(10, 7))\n",
    "        sns.barplot(x=cat_var, y=num_var, data=df,estimator='mean',errorbar =None)\n",
    "        plt.title(f'{num_var} by {cat_var}')\n",
    "        plt.xticks(rotation=45)\n",
    "        plt.show()"
   ]
  },
  {
   "cell_type": "code",
   "execution_count": null,
   "id": "d4baef34",
   "metadata": {},
   "outputs": [],
   "source": [
    "from flask import Flask\n",
    "\n",
    "# Create an instance of the Flask class\n",
    "app = Flask(__name__)\n",
    "\n",
    "# Define a route for the homepage\n",
    "@app.route('/')\n",
    "def hello_world():\n",
    "    return 'Hello, World!'\n",
    "\n",
    "if __name__ == '__main__':\n",
    "    # Run the app on your local machine\n",
    "    app.run(debug=True)"
   ]
  },
  {
   "cell_type": "code",
   "execution_count": null,
   "id": "8338e8f2",
   "metadata": {
    "scrolled": true
   },
   "outputs": [],
   "source": [
    "sns.histplot(df[df['y']=='yes']['age'])\n",
    "plt.show()"
   ]
  },
  {
   "cell_type": "code",
   "execution_count": null,
   "id": "5229d8ef",
   "metadata": {},
   "outputs": [],
   "source": [
    "mean_balance_per_job = df.groupby(['job'])['balance'].mean().sort_values(ascending=False)\n",
    "\n",
    "print(mean_balance_per_job)\n",
    "sns.barplot(x=mean_balance_per_job.index, y=mean_balance_per_job.values)\n",
    "plt.xticks(rotation=90)\n",
    "plt.show()\n"
   ]
  },
  {
   "cell_type": "markdown",
   "id": "6f58896b",
   "metadata": {},
   "source": [
    "#### 4.4 Multivariate Analysis\n",
    "\n",
    "[Back to Table of Contents](#--Table-of-Contents)"
   ]
  },
  {
   "cell_type": "code",
   "execution_count": null,
   "id": "f0305479",
   "metadata": {},
   "outputs": [],
   "source": [
    "sns.pairplot(df[['age', 'balance', 'duration', 'campaign','pdays', 'previous']])\n",
    "plt.title('Pairplot of Numerical Variables')\n",
    "plt.show()"
   ]
  },
  {
   "cell_type": "code",
   "execution_count": null,
   "id": "5b368445",
   "metadata": {
    "scrolled": true
   },
   "outputs": [],
   "source": [
    "sns.barplot(x='housing', y='balance', hue='y', data=df)\n",
    "plt.title('Average Balance by Loan Status and Housing')\n",
    "plt.show()"
   ]
  },
  {
   "cell_type": "code",
   "execution_count": null,
   "id": "b1e0015f",
   "metadata": {
    "scrolled": true
   },
   "outputs": [],
   "source": [
    "sns.barplot(x='loan', y='age', hue='y', data=df)\n",
    "plt.title('Average Age by Loan Status and Taget Variable(y)')\n",
    "plt.show()"
   ]
  },
  {
   "cell_type": "code",
   "execution_count": null,
   "id": "d887c551",
   "metadata": {
    "scrolled": true
   },
   "outputs": [],
   "source": [
    "sns.barplot(x='loan', y='balance', hue='y', data=df)\n",
    "plt.title('Average Balance by Loan Status and Housing')\n",
    "plt.show()"
   ]
  },
  {
   "cell_type": "code",
   "execution_count": null,
   "id": "e315d496",
   "metadata": {
    "scrolled": true
   },
   "outputs": [],
   "source": [
    "sns.barplot(x='job', y='age', hue='y', data=df)\n",
    "plt.title('Average Age by Job Status and Subscription to a Term Deposit')\n",
    "plt.xticks(rotation=45)\n",
    "plt.show()"
   ]
  },
  {
   "cell_type": "code",
   "execution_count": null,
   "id": "65f83ef5",
   "metadata": {
    "scrolled": true
   },
   "outputs": [],
   "source": [
    "sns.barplot(x='poutcome', y='previous', hue='y', data=df)\n",
    "plt.title('Average Number of contacts performed before the campaign and foe the Client by Previous outome Status and Subscription to a Term Deposit')\n",
    "plt.xticks(rotation=45)\n",
    "plt.show()"
   ]
  },
  {
   "cell_type": "code",
   "execution_count": null,
   "id": "cb3db521",
   "metadata": {
    "scrolled": true
   },
   "outputs": [],
   "source": [
    "sns.barplot(x='poutcome', y='duration', hue='y', data=df)\n",
    "plt.title('Average Duration by Previous Outcome and Subscription to a Term Deposit')\n",
    "plt.xticks(rotation=45)\n",
    "plt.show()"
   ]
  },
  {
   "cell_type": "code",
   "execution_count": null,
   "id": "cc554958",
   "metadata": {},
   "outputs": [],
   "source": [
    "sns.barplot(x='job', y='duration', hue='y', data=df)\n",
    "plt.title('Average Duration by Job and Subscription to a Term Deposit')\n",
    "plt.xticks(rotation=45)\n",
    "plt.show()"
   ]
  },
  {
   "cell_type": "code",
   "execution_count": null,
   "id": "a137c5ea",
   "metadata": {},
   "outputs": [],
   "source": [
    "sns.scatterplot(data=df,x='age',y='balance',hue='y')\n",
    "plt.title(\"Age vs Balance with Subscription Outcome\")\n",
    "plt.show()"
   ]
  },
  {
   "cell_type": "code",
   "execution_count": null,
   "id": "7d325101",
   "metadata": {
    "scrolled": true
   },
   "outputs": [],
   "source": [
    "sns.barplot(x='job', y='age', hue='y', data=df,errorbar=None)\n",
    "plt.title('Average Age by Job and Subscription to a Term Deposit')\n",
    "plt.xticks(rotation=45)\n",
    "plt.show()"
   ]
  },
  {
   "cell_type": "code",
   "execution_count": null,
   "id": "c40ebb49",
   "metadata": {},
   "outputs": [],
   "source": [
    "#Calculating the percentage of each value of the target variable\n",
    "df['y'].value_counts(normalize=True)*100"
   ]
  },
  {
   "cell_type": "code",
   "execution_count": null,
   "id": "0a2db619",
   "metadata": {
    "scrolled": true
   },
   "outputs": [],
   "source": [
    "Count_of_Balance_lessthan0_per_Job = df[df['balance']<0]['job'].value_counts()\n",
    "sns.barplot(x=Count_of_Balance_lessthan0_per_Job.index, y=Count_of_Balance_lessthan0_per_Job.values)\n",
    "plt.xticks(rotation=90)\n",
    "plt.ylabel('Frequency')\n",
    "plt.xlabel('Jobs')\n",
    "plt.title('Frequency of Jobs with Balance less than 0')\n",
    "plt.show()"
   ]
  },
  {
   "cell_type": "code",
   "execution_count": null,
   "id": "99de180d",
   "metadata": {
    "scrolled": true
   },
   "outputs": [],
   "source": [
    "Count_of_Balance_greaterthan0_per_Job = df[df['balance']>1000]['job'].value_counts()\n",
    "sns.barplot(x=Count_of_Balance_greaterthan0_per_Job.index, y=Count_of_Balance_greaterthan0_per_Job.values)\n",
    "plt.xticks(rotation=90)\n",
    "plt.ylabel('Frequency')\n",
    "plt.xlabel('Jobs')\n",
    "plt.title('Frequency of Jobs with Balance Greater than 0')\n",
    "plt.show()"
   ]
  },
  {
   "cell_type": "code",
   "execution_count": null,
   "id": "eff87fcb",
   "metadata": {
    "scrolled": true
   },
   "outputs": [],
   "source": [
    "df.groupby(['default','housing','loan'])['balance'].mean()"
   ]
  },
  {
   "cell_type": "code",
   "execution_count": null,
   "id": "a5fc19ed",
   "metadata": {},
   "outputs": [],
   "source": [
    "df[df['y'] == 1].groupby('month').size().sort_values(ascending=False)"
   ]
  },
  {
   "cell_type": "code",
   "execution_count": null,
   "id": "e1291504",
   "metadata": {
    "scrolled": false
   },
   "outputs": [],
   "source": [
    "df.groupby(['y','housing','loan','default'])['balance'].mean()"
   ]
  },
  {
   "cell_type": "code",
   "execution_count": null,
   "id": "a80f87a7",
   "metadata": {
    "scrolled": false
   },
   "outputs": [],
   "source": [
    "df.groupby(['y','housing'])['duration'].mean()"
   ]
  },
  {
   "cell_type": "code",
   "execution_count": null,
   "id": "a99d916f",
   "metadata": {
    "scrolled": true
   },
   "outputs": [],
   "source": [
    "df.groupby(['y','loan'])['balance'].mean()"
   ]
  },
  {
   "cell_type": "code",
   "execution_count": null,
   "id": "6f3e9fbe",
   "metadata": {
    "scrolled": true
   },
   "outputs": [],
   "source": [
    "# Average balance by marital group\n",
    "df.groupby(['marital'])['balance'].mean()"
   ]
  },
  {
   "cell_type": "code",
   "execution_count": null,
   "id": "78754456",
   "metadata": {},
   "outputs": [],
   "source": [
    "#Average balance by marital group and job\n",
    "df.groupby(['marital','job'])['campaign'].mean()"
   ]
  },
  {
   "cell_type": "code",
   "execution_count": null,
   "id": "894fa073",
   "metadata": {},
   "outputs": [],
   "source": [
    "#Dealing with ouliers in the balance variable\n",
    "Q1 = df.balance.quantile(0.25)\n",
    "Q3 = df.balance.quantile(0.75)\n",
    "\n",
    "IQR = Q3 - Q1\n",
    "\n",
    "upper = Q3 + 1.5*IQR\n",
    "lower = Q1 - 1.5*IQR\n",
    "print(lower,upper,sep=' ,')"
   ]
  },
  {
   "cell_type": "code",
   "execution_count": null,
   "id": "1cbd3fa0",
   "metadata": {
    "scrolled": true
   },
   "outputs": [],
   "source": [
    "#Removing balance outliers\n",
    "not_outlier_df= df[(df['balance']>lower)&(df['balance']<upper)]\n",
    "not_outlier_df"
   ]
  },
  {
   "cell_type": "code",
   "execution_count": null,
   "id": "354dd16a",
   "metadata": {
    "scrolled": true
   },
   "outputs": [],
   "source": [
    "#Plotting a box plot after removing outliers in the balance column\n",
    "sns.boxplot(not_outlier_df['balance'])\n",
    "plt.show()"
   ]
  },
  {
   "cell_type": "code",
   "execution_count": null,
   "id": "6912eb00",
   "metadata": {
    "scrolled": false
   },
   "outputs": [],
   "source": [
    "#Removing Redundant features in the dataset\n",
    "df.drop(columns=['default','contact','pdays','poutcome'],inplace=True)\n",
    "df"
   ]
  },
  {
   "cell_type": "markdown",
   "id": "72bac921",
   "metadata": {},
   "source": [
    "### 5.  Feature Engineering and Data Preprocessing\n",
    "\n",
    "[Back to Table of Contents](#--Table-of-Contents)"
   ]
  },
  {
   "cell_type": "code",
   "execution_count": null,
   "id": "7b428bba",
   "metadata": {
    "scrolled": true
   },
   "outputs": [],
   "source": [
    "# Counting the number of each instances in the target variable\n",
    "sns.countplot(x=\"y\", data=df, palette=\"Set1\")\n",
    "plt.title(\"Count of Y\")\n",
    "plt.show()"
   ]
  },
  {
   "cell_type": "code",
   "execution_count": null,
   "id": "8fd603a5",
   "metadata": {},
   "outputs": [],
   "source": [
    "# renaming target variable\n",
    "df[\"y\"] = df[\"y\"].replace({\"yes\": 1, \"no\": 0})"
   ]
  },
  {
   "cell_type": "code",
   "execution_count": null,
   "id": "96ca6fa2",
   "metadata": {
    "scrolled": true
   },
   "outputs": [],
   "source": [
    "df[\"y\"].value_counts()"
   ]
  },
  {
   "cell_type": "code",
   "execution_count": null,
   "id": "aab42f4e",
   "metadata": {},
   "outputs": [],
   "source": [
    "df.describe(include='object')"
   ]
  },
  {
   "cell_type": "code",
   "execution_count": null,
   "id": "2adba914",
   "metadata": {},
   "outputs": [],
   "source": [
    "from sklearn.preprocessing import LabelEncoder\n",
    "\n",
    "# Initialize the LabelEncoder\n",
    "encoder = LabelEncoder()\n",
    "\n",
    "# List of columns to encode\n",
    "columns_to_encode = ['job', 'marital', 'education', 'housing', 'month','loan']\n",
    "\n",
    "# Apply LabelEncoder to each column in the list\n",
    "for column in columns_to_encode:\n",
    "    df[column] = encoder.fit_transform(df[column])"
   ]
  },
  {
   "cell_type": "code",
   "execution_count": null,
   "id": "a0069e5b",
   "metadata": {},
   "outputs": [],
   "source": [
    "df['loan'] = encoder.fit_transform(df['loan'])"
   ]
  },
  {
   "cell_type": "code",
   "execution_count": null,
   "id": "c35858e9",
   "metadata": {},
   "outputs": [],
   "source": [
    "df.head()"
   ]
  },
  {
   "cell_type": "code",
   "execution_count": null,
   "id": "97cb1c51",
   "metadata": {
    "scrolled": true
   },
   "outputs": [],
   "source": [
    "# Splitting the data into features and target variable\n",
    "X = df.drop(columns=['y'], axis=1) \n",
    "y = df['y'] \n",
    "\n",
    "# Split into train and test sets\n",
    "X_train, X_test, y_train, y_test = train_test_split(X, y, test_size=0.2, random_state=42)"
   ]
  },
  {
   "cell_type": "code",
   "execution_count": null,
   "id": "b25ee203",
   "metadata": {
    "scrolled": true
   },
   "outputs": [],
   "source": [
    "# Visualizing original target variable distribution\n",
    "plt.figure(figsize=(10, 6))\n",
    "sns.countplot(x=y_train)\n",
    "plt.title('Original Class Distribution (Before Balancing)')\n",
    "plt.xlabel('Target Class')\n",
    "plt.ylabel('Count')\n",
    "plt.show()"
   ]
  },
  {
   "cell_type": "code",
   "execution_count": null,
   "id": "21c5648c",
   "metadata": {},
   "outputs": [],
   "source": [
    "#Counting the number of each target variable\n",
    "y_train.value_counts()"
   ]
  },
  {
   "cell_type": "code",
   "execution_count": null,
   "id": "9d24e60e",
   "metadata": {},
   "outputs": [],
   "source": [
    "#Balancing the target variable\n",
    "smote = SMOTE(random_state=42)\n",
    "X_train_resampled, y_train_resampled = smote.fit_resample(X_train, y_train)\n"
   ]
  },
  {
   "cell_type": "code",
   "execution_count": null,
   "id": "53ac8d32",
   "metadata": {
    "scrolled": true
   },
   "outputs": [],
   "source": [
    "#Visualizing the distribution of the target variable after balancing the data\n",
    "plt.figure(figsize=(10, 6))\n",
    "sns.countplot(x=y_train_resampled)\n",
    "plt.title('Class Distribution After SMOTE (Balancing)')\n",
    "plt.xlabel('Target Class')\n",
    "plt.ylabel('Count')\n",
    "plt.show()"
   ]
  },
  {
   "cell_type": "code",
   "execution_count": null,
   "id": "02677568",
   "metadata": {
    "scrolled": true
   },
   "outputs": [],
   "source": [
    "y_train_resampled.value_counts()"
   ]
  },
  {
   "cell_type": "markdown",
   "id": "c9f5e5ca",
   "metadata": {},
   "source": [
    "### 6.  Model Building\n",
    "\n",
    "[Back to Table of Contents](#--Table-of-Contents)"
   ]
  },
  {
   "cell_type": "code",
   "execution_count": null,
   "id": "240cf936",
   "metadata": {},
   "outputs": [],
   "source": [
    "# Function to evaluate models\n",
    "def evaluate_model(model, X_train_resampled, X_test, y_train_resampled, y_test):\n",
    "    model.fit(X_train_resampled, y_train_resampled)\n",
    "    y_train_pred = model.predict(X_train_resampled)\n",
    "    y_test_pred = model.predict(X_test)\n",
    "    \n",
    "    train_accuracy = accuracy_score(y_train_resampled, y_train_pred)\n",
    "    test_accuracy = accuracy_score(y_test, y_test_pred)\n",
    "    train_f1 = f1_score(y_train_resampled, y_train_pred)\n",
    "    test_f1 = f1_score(y_test, y_test_pred)\n",
    "    \n",
    "    print(f'Train Accuracy: {train_accuracy:.4f}')\n",
    "    print(f'Test Accuracy: {test_accuracy:.4f}')\n",
    "    print(f'Train F1 Score: {train_f1:.4f}')\n",
    "    print(f'Test F1 Score: {test_f1:.4f}')\n",
    "    \n",
    "    print('Classification Report (Test Data):')\n",
    "    print(classification_report(y_test, y_test_pred))\n",
    "    \n",
    "    print('Confusion Matrix (Test Data):')\n",
    "    sns.heatmap(confusion_matrix(y_test, y_test_pred), annot=True, fmt='d', cmap='Blues')\n",
    "    plt.show()\n",
    "    \n",
    "    return train_accuracy, test_accuracy, train_f1, test_f1"
   ]
  },
  {
   "cell_type": "code",
   "execution_count": null,
   "id": "6694d18f",
   "metadata": {},
   "outputs": [],
   "source": [
    "# Calculate scale_pos_weight as the ratio of negative to positive class\n",
    "scale_pos_weight = sum(y_train_resampled == 0) / sum(y_train_resampled == 1)\n",
    "models = {\n",
    "    'DecisionTree': DecisionTreeClassifier(),\n",
    "    'RandomForest': RandomForestClassifier(),\n",
    "    'ExtraTrees': ExtraTreesClassifier(),\n",
    "    'NaiveBayes': GaussianNB(),\n",
    "    'XGBoost': XGBClassifier(),\n",
    "    'AdaBoost': AdaBoostClassifier()\n",
    "}\n",
    "\n",
    "param_grids = {\n",
    "    'DecisionTree': {'max_depth': [3, 5, 7, 9], 'class_weight': ['balanced', None]},\n",
    "    'RandomForest': {'n_estimators': [50, 100, 200], 'max_depth': [3, 5, 7, 9],'class_weight': ['balanced', None]},\n",
    "    'ExtraTrees': {'n_estimators':[10,20,30,50,100],'class_weight': ['balanced', None]},\n",
    "    'NaiveBayes':{},\n",
    "    'XGBoost': {'n_estimators': [50, 100, 200], 'learning_rate': [0.01, 0.1, 0.2],'class_weight': ['balanced', None]},\n",
    "    'AdaBoost': {'n_estimators': [50, 100, 200], 'learning_rate': [0.01, 0.1, 0.2]}\n",
    "}\n",
    "\n",
    "results = []"
   ]
  },
  {
   "cell_type": "markdown",
   "id": "bb934912",
   "metadata": {},
   "source": [
    "### 7. Model Evaluation\n",
    "\n",
    "[Back to Table of Contents](#--Table-of-Contents)"
   ]
  },
  {
   "cell_type": "code",
   "execution_count": null,
   "id": "f4575cfb",
   "metadata": {},
   "outputs": [],
   "source": [
    "# Using Grid search to find the best hyperparameter for each model\n",
    "for model_name, model in models.items():\n",
    "    print(f'\\nModel: {model_name}')\n",
    "    grid_search = GridSearchCV(model, param_grids[model_name], cv=5, scoring='f1')\n",
    "    grid_search.fit(X_train, y_train)\n",
    "    \n",
    "    best_model = grid_search.best_estimator_\n",
    "    print(f'Best Parameters: {grid_search.best_params_}')\n",
    "    \n",
    "    train_acc, test_acc, train_f1, test_f1 = evaluate_model(best_model, X_train_resampled, X_test, y_train_resampled, y_test)\n",
    "    \n",
    "    results.append({\n",
    "        'Model': model_name,\n",
    "        'Best Params': grid_search.best_params_,\n",
    "        'Train Accuracy': train_acc,\n",
    "        'Test Accuracy': test_acc,\n",
    "        'Train F1 Score': train_f1,\n",
    "        'Test F1 Score': test_f1\n",
    "    })"
   ]
  },
  {
   "cell_type": "markdown",
   "id": "c3e853b4",
   "metadata": {},
   "source": [
    "### 8. Model Selection\n",
    "\n",
    "[Back to Table of Contents](#--Table-of-Contents)"
   ]
  },
  {
   "cell_type": "code",
   "execution_count": null,
   "id": "fb307344",
   "metadata": {},
   "outputs": [],
   "source": [
    "results_df = pd.DataFrame(results)\n",
    "print(results_df)\n",
    "\n",
    "# Plotting the results\n",
    "fig, axes = plt.subplots(2, 2, figsize=(14, 10))\n",
    "axes = axes.ravel()\n",
    "\n",
    "metrics = ['Train Accuracy', 'Test Accuracy', 'Train F1 Score', 'Test F1 Score']\n",
    "\n",
    "for idx, metric in enumerate(metrics):\n",
    "    sns.barplot(x='Model', y=metric, data=results_df, ax=axes[idx], palette='viridis')\n",
    "    axes[idx].set_title(f'{metric} Comparison')\n",
    "    axes[idx].set_ylabel(metric)\n",
    "    axes[idx].set_xlabel('Model')\n",
    "    for item in axes[idx].get_xticklabels():\n",
    "        item.set_rotation(45)\n",
    "\n",
    "plt.tight_layout()\n",
    "plt.show()"
   ]
  },
  {
   "cell_type": "code",
   "execution_count": null,
   "id": "24399b5b",
   "metadata": {},
   "outputs": [],
   "source": [
    "results_df = pd.DataFrame(results)\n",
    "print(results_df)\n",
    "# Finding the best model based on Test Accuracy and Test F1 Score\n",
    "best_model_accuracy_row = results_df.loc[results_df['Test Accuracy'].idxmax()]\n",
    "best_model_f1_row = results_df.loc[results_df['Test F1 Score'].idxmax()]\n",
    "\n",
    "print(\"Best Model based on Test Accuracy:\")\n",
    "print(best_model_accuracy_row)\n",
    "\n",
    "print(\"\\nBest Model based on Test F1 Score:\")\n",
    "print(best_model_f1_row)\n",
    "\n",
    "results_df['Average Score'] = (results_df['Test Accuracy'] + results_df['Test F1 Score']) / 2\n",
    "best_model_combined_row = results_df.loc[results_df['Average Score'].idxmax()]\n",
    "\n",
    "print(\"\\nBest Model based on Combined Test Accuracy and Test F1 Score:\")\n",
    "print(best_model_combined_row)"
   ]
  },
  {
   "cell_type": "code",
   "execution_count": null,
   "id": "ba810c93",
   "metadata": {},
   "outputs": [],
   "source": [
    "#Counting the number if correct and incorrect prediction of the selected model\n",
    "best_xgb_params = {'learning_rate': 0.1, 'n_estimators': 200}\n",
    "\n",
    "xgb_model = XGBClassifier(**best_xgb_params)\n",
    "\n",
    "xgb_model.fit(X_train_resampled, y_train_resampled)\n",
    "\n",
    "y_test_pred = xgb_model.predict(X_test)\n",
    "\n",
    "# DataFrame to show true vs predicted values\n",
    "prediction_df = pd.DataFrame({\n",
    "    'True Label': y_test,\n",
    "    'Predicted Label': y_test_pred\n",
    "})\n",
    "\n",
    "prediction_df['Correct Prediction'] = prediction_df['True Label'] == prediction_df['Predicted Label']\n",
    "\n",
    "print(prediction_df.head(50))\n",
    "\n",
    "prediction_df.value_counts()"
   ]
  },
  {
   "cell_type": "code",
   "execution_count": null,
   "id": "fc91de9b",
   "metadata": {},
   "outputs": [],
   "source": [
    "#ROC Curve\n",
    "\n",
    "y_test_probs = xgb_model.predict_proba(X_test)[:, 1]\n",
    "\n",
    "# Compute ROC curve and ROC area\n",
    "fpr, tpr, thresholds = roc_curve(y_test, y_test_probs)\n",
    "roc_auc = roc_auc_score(y_test, y_test_probs)\n",
    "\n",
    "# Plot ROC curve\n",
    "plt.figure(figsize=(8, 6))\n",
    "plt.plot(fpr, tpr, color='blue', lw=2, label=f'ROC curve (AUC = {roc_auc:.2f})')\n",
    "plt.plot([0, 1], [0, 1], color='gray', linestyle='--')\n",
    "plt.xlim([0.0, 1.0])\n",
    "plt.ylim([0.0, 1.05])\n",
    "plt.xlabel('False Positive Rate')\n",
    "plt.ylabel('True Positive Rate')\n",
    "plt.title('Receiver Operating Characteristic (ROC) Curve')\n",
    "plt.legend(loc='lower right')\n",
    "plt.show()"
   ]
  },
  {
   "cell_type": "markdown",
   "id": "c6347f16",
   "metadata": {},
   "source": [
    "### 9. Feature Importance\n",
    "\n",
    "[Back to Table of Contents](#--Table-of-Contents)"
   ]
  },
  {
   "cell_type": "code",
   "execution_count": null,
   "id": "899884cb",
   "metadata": {},
   "outputs": [],
   "source": [
    "#Getting feature importance from the model selected\n",
    "feature_importances = xgb_model.feature_importances_\n",
    "\n",
    "# Creating a DataFrame \n",
    "feature_df = pd.DataFrame({\n",
    "    'Feature': X.columns,\n",
    "    'Importance': feature_importances\n",
    "})\n",
    "\n",
    "# Sorting the features by order of importance\n",
    "feature_df = feature_df.sort_values(by='Importance', ascending=False)\n",
    "\n",
    "# Plot feature importances\n",
    "plt.figure(figsize=(10, 6))\n",
    "plt.barh(feature_df['Feature'], feature_df['Importance'])\n",
    "plt.xlabel('Importance')\n",
    "plt.title('Feature Importance (XGBoost)')\n",
    "plt.show()"
   ]
  },
  {
   "cell_type": "markdown",
   "id": "b49540f0",
   "metadata": {},
   "source": [
    "### 10. Summary\n",
    "\n",
    "[Back to Table of Contents](#--Table-of-Contents)\n",
    "\n",
    "The data 1 column and 45211 rows. It was splitted into 17 columns by 45211 rows with no missing values or duplicates after the sanity checks. Exploratory analysis was carried out and the results described below;\n",
    " \n",
    "* From the exploratory analysis, Age was found to be an important feature of clients who will subscribe to a term deposit, with middle-aged clients of about 30-35 years, like subscribe.\n",
    "\n",
    "\n",
    "* Also, Customers in jobs like \"blue-collar\", \"technician\", and \"retired\" showed a higher likelihood of subscribing to a term deposit although quite a number of them has less balance in their account.\n",
    "\n",
    "* Again, Customers with a higher account Balance were more likely to subscribe to a term deposit.\n",
    "\n",
    "* Customers with a higher Education level, especially those with tertiary education, had a higher likelihood of subscribing.\n",
    "\n",
    "* Previous contacted customers during the campaign whad a higher chance of subscribing.\n",
    "\n",
    "* Customers who had no loan or housing loan also were more likely to subscribe to a term deposit.\n",
    "\n",
    "* In the month May and June, the subscription rates were high which indicates the season in which most customers were likely to subscribe to a term deposit.\n",
    "\n",
    "* Singles and divorced Customers also showed interest in subscribing to a term deposit more than married Customers, probably they have a lot of responsibilities to cater for.\n",
    "\n",
    "* The higher the duration,that is; the longer the time spent on the call, the higher, Customers subscribed to a term deposit.\n",
    "\n",
    "2. It was also observed that the target variable, was imbalanced as about 88% of it were \"No\" whiles about 11% was \"Yes\". In order to avoid avoid bias in the model, SMOTE and class_weight was used to handle it.\n",
    "\n",
    "Also, redundant features were dropped to avoid the model from underfitting or overfitting.\n",
    "\n",
    "About 6 Algorithms were used in the model building, hyperparameter tuning was done and the best model selected based on their Accuracy and F1 score.\n",
    "\n",
    "The best performing model selected was Xgboost with a test Accuracy of 87% and test F1-Score of 56%.\n",
    "\n",
    "Though the data is overfiting, this is due to inadequate data and unbalanced presentation of the target variable during testing."
   ]
  },
  {
   "cell_type": "markdown",
   "id": "32f33201",
   "metadata": {},
   "source": [
    "### 11. Recommendations\n",
    "\n",
    "[Back to Table of Contents](#--Table-of-Contents)\n",
    "\n",
    "1. Marketting should be centered on customers of middle aged (30-50), especially those with higher educational qualifications. And adverisement should be based on the long term essence of subscribing to the term deposit.\n",
    "\n",
    "2. Those with blue collar jobs and technicians should be highly considered, for example; a message can be tailored or personalized to them to constantly remind and teach them essence of term deposit.\n",
    "\n",
    "3. Utilize seasonal campaigns during peak months for example in  May and June as seen from the analysis when subscription rates are higher.\n",
    "\n",
    "4. Interact more with clients who were previously contacted in the campaign, especially those who were interested but did not subscribe. Example, the company can offer them nice incentives and probably additional information that will enthuse them to subscibe the term deposit. "
   ]
  },
  {
   "cell_type": "markdown",
   "id": "e4154a96",
   "metadata": {},
   "source": [
    "### 12.  Model Deployment\n",
    "\n",
    "[Back to Table of Contents](#--Table-of-Contents)"
   ]
  },
  {
   "cell_type": "markdown",
   "id": "c8f5435f",
   "metadata": {},
   "source": [
    "[Back to Table of Contents](#--Table-of-Contents)"
   ]
  },
  {
   "cell_type": "code",
   "execution_count": null,
   "id": "608449e0",
   "metadata": {},
   "outputs": [],
   "source": []
  }
 ],
 "metadata": {
  "kernelspec": {
   "display_name": "Python 3 (ipykernel)",
   "language": "python",
   "name": "python3"
  },
  "language_info": {
   "codemirror_mode": {
    "name": "ipython",
    "version": 3
   },
   "file_extension": ".py",
   "mimetype": "text/x-python",
   "name": "python",
   "nbconvert_exporter": "python",
   "pygments_lexer": "ipython3",
   "version": "3.11.3"
  }
 },
 "nbformat": 4,
 "nbformat_minor": 5
}
